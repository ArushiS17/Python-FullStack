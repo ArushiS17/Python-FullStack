{
  "nbformat": 4,
  "nbformat_minor": 0,
  "metadata": {
    "colab": {
      "provenance": [],
      "authorship_tag": "ABX9TyPCkM/3oq585wE8AysUon6U",
      "include_colab_link": true
    },
    "kernelspec": {
      "name": "python3",
      "display_name": "Python 3"
    },
    "language_info": {
      "name": "python"
    }
  },
  "cells": [
    {
      "cell_type": "markdown",
      "metadata": {
        "id": "view-in-github",
        "colab_type": "text"
      },
      "source": [
        "<a href=\"https://colab.research.google.com/github/ArushiS17/Python-FullStack/blob/main/LabExperiment.ipynb\" target=\"_parent\"><img src=\"https://colab.research.google.com/assets/colab-badge.svg\" alt=\"Open In Colab\"/></a>"
      ]
    },
    {
      "cell_type": "code",
      "execution_count": 1,
      "metadata": {
        "colab": {
          "base_uri": "https://localhost:8080/"
        },
        "id": "Fibb5bGU_TTj",
        "outputId": "1f632056-bfd7-4ebb-e251-23badf4a0225"
      },
      "outputs": [
        {
          "output_type": "stream",
          "name": "stdout",
          "text": [
            "List of numbers from 1 to 9 with step size 1 : [1, 2, 3, 4, 5, 6, 7, 8, 9]\n"
          ]
        }
      ],
      "source": [
        "#experiment1\n",
        "start = 1\n",
        "stop = 10\n",
        "step = 1\n",
        "\n",
        "numbers_list = list(range(start, stop, step))\n",
        "\n",
        "\n",
        "print(\"List of numbers from\", start, \"to\", stop-1, \"with step size\", step, \":\", numbers_list)\n"
      ]
    },
    {
      "cell_type": "code",
      "source": [
        "#experiment 2\n",
        "def is_prime(num):\n",
        "    if num <= 1:\n",
        "        return False\n",
        "    for i in range(2, int(num**0.5) + 1):\n",
        "        if num % i == 0:\n",
        "            return False\n",
        "    return True\n",
        "\n",
        "def print_first_n_primes(n):\n",
        "\n",
        "    prime_numbers = []\n",
        "    num = 2\n",
        "    while len(prime_numbers) < n:\n",
        "        if is_prime(num):\n",
        "            prime_numbers.append(num)\n",
        "        num += 1\n",
        "    print(\"First\", n, \"prime numbers:\", prime_numbers)\n",
        "\n",
        "# Specify the number of prime numbers to print\n",
        "n = 10\n",
        "print_first_n_primes(n)\n"
      ],
      "metadata": {
        "colab": {
          "base_uri": "https://localhost:8080/"
        },
        "id": "gex1m9kDA8GM",
        "outputId": "be359e97-68e1-4d37-c189-c1044df62109"
      },
      "execution_count": 2,
      "outputs": [
        {
          "output_type": "stream",
          "name": "stdout",
          "text": [
            "First 10 prime numbers: [2, 3, 5, 7, 11, 13, 17, 19, 23, 29]\n"
          ]
        }
      ]
    },
    {
      "cell_type": "code",
      "source": [
        "#experiment 3\n",
        "\n",
        "def matrix_multiplication(matrix1, matrix2):\n",
        "\n",
        "    result = [[sum(a * b for a, b in zip(row1, col2)) for col2 in zip(*matrix2)] for row1 in matrix1]\n",
        "    return result\n",
        "\n",
        "# Example matrices to multiply\n",
        "matrix_a = [\n",
        "    [1, 2, 3],\n",
        "    [4, 5, 6],\n",
        "    [7, 8, 9]\n",
        "]\n",
        "\n",
        "matrix_b = [\n",
        "    [9, 8, 7],\n",
        "    [6, 5, 4],\n",
        "    [3, 2, 1]\n",
        "]\n",
        "\n",
        "result_matrix = matrix_multiplication(matrix_a, matrix_b)\n",
        "\n",
        "print(\"Result of matrix multiplication:\")\n",
        "for row in result_matrix:\n",
        "    print(row)\n"
      ],
      "metadata": {
        "colab": {
          "base_uri": "https://localhost:8080/"
        },
        "id": "z9NYf26sBWOK",
        "outputId": "4cdbc85e-4025-4e23-f575-224a645836f1"
      },
      "execution_count": 3,
      "outputs": [
        {
          "output_type": "stream",
          "name": "stdout",
          "text": [
            "Result of matrix multiplication:\n",
            "[30, 24, 18]\n",
            "[84, 69, 54]\n",
            "[138, 114, 90]\n"
          ]
        }
      ]
    },
    {
      "cell_type": "code",
      "source": [
        "#experiment 4\n",
        "import sys\n",
        "\n",
        "def word_count(args):\n",
        "    \"\"\"Count the number of words in command line arguments.\"\"\"\n",
        "    if len(args) < 2:\n",
        "        print(\"Usage: python word_count.py <word1> <word2> ... <wordN>\")\n",
        "        return\n",
        "\n",
        "    total_words = len(args) - 1\n",
        "    print(\"Total words in command line arguments:\", total_words)\n",
        "    print(\"Words entered:\")\n",
        "    for word in args[1:]:\n",
        "        print(word)\n",
        "\n",
        "\n",
        "arguments = sys.argv\n",
        "word_count(arguments)\n"
      ],
      "metadata": {
        "colab": {
          "base_uri": "https://localhost:8080/"
        },
        "id": "ZiHsgEnaBwJt",
        "outputId": "2eb4e2dd-befb-4e28-a967-369df2fd7ede"
      },
      "execution_count": 4,
      "outputs": [
        {
          "output_type": "stream",
          "name": "stdout",
          "text": [
            "Total words in command line arguments: 2\n",
            "Words entered:\n",
            "-f\n",
            "/root/.local/share/jupyter/runtime/kernel-7441c5d4-b24d-4a99-af4b-38e80a5b6e66.json\n"
          ]
        }
      ]
    },
    {
      "cell_type": "code",
      "source": [
        "#experiment 5\n",
        "def print_hello_world():\n",
        "    print(\"Hello World\")\n",
        "\n",
        "print_hello_world()\n"
      ],
      "metadata": {
        "colab": {
          "base_uri": "https://localhost:8080/"
        },
        "id": "I988xGHmCC5N",
        "outputId": "7976110d-5534-4fb8-95b4-0eb814cd4a0c"
      },
      "execution_count": 5,
      "outputs": [
        {
          "output_type": "stream",
          "name": "stdout",
          "text": [
            "Hello World\n"
          ]
        }
      ]
    },
    {
      "cell_type": "code",
      "source": [
        "#experiment 6\n",
        "def verify_data(input_data):\n",
        "\n",
        "    if input_data.strip():\n",
        "        return True\n",
        "    else:\n",
        "        return False\n",
        "\n",
        "def welcome_user(username):\n",
        "    print(\"Welcome to the program,\", username)\n",
        "\n",
        "user_input = input(\"Enter some data: \")\n",
        "\n",
        "\n",
        "if verify_data(user_input):\n",
        "    welcome_user(user_input)\n",
        "else:\n",
        "    print(\"Error: Please enter valid data.\")\n",
        "\n"
      ],
      "metadata": {
        "colab": {
          "base_uri": "https://localhost:8080/"
        },
        "id": "3TlmD4r-Cq2h",
        "outputId": "cddc1a27-ba1d-494e-c1b3-c406e0203d88"
      },
      "execution_count": 7,
      "outputs": [
        {
          "output_type": "stream",
          "name": "stdout",
          "text": [
            "Enter some data: hello!\n",
            "Welcome to the program, hello!\n"
          ]
        }
      ]
    },
    {
      "cell_type": "code",
      "source": [
        "#experiment 7\n",
        "string_list = []\n",
        "\n",
        "while True:\n",
        "    user_input = input(\"Enter a string (type 'done' to finish): \")\n",
        "\n",
        "    if user_input.lower() == 'done':\n",
        "        break\n",
        "\n",
        "    string_list.append(user_input)\n",
        "\n",
        "print(\"\\nStrings entered:\")\n",
        "for string in string_list:\n",
        "    print(string)\n"
      ],
      "metadata": {
        "colab": {
          "base_uri": "https://localhost:8080/"
        },
        "id": "dRrpRuUhDVUc",
        "outputId": "5f91ea92-1a30-4b05-98a4-da8b38eeaf77"
      },
      "execution_count": 8,
      "outputs": [
        {
          "output_type": "stream",
          "name": "stdout",
          "text": [
            "Enter a string (type 'done' to finish): Hello, I am Arushi\n",
            "Enter a string (type 'done' to finish): I am persuing B.Tech at VIT\n",
            "Enter a string (type 'done' to finish): done\n",
            "\n",
            "Strings entered:\n",
            "Hello, I am Arushi\n",
            "I am persuing B.Tech at VIT\n"
          ]
        }
      ]
    },
    {
      "cell_type": "code",
      "source": [
        "#experiment 8\n",
        "def count_words(file_path):\n",
        "    word_count = {}\n",
        "    with open(file_path, 'r') as file:\n",
        "        for line in file:\n",
        "            words = line.split()\n",
        "            for word in words:\n",
        "                word_count[word] = word_count.get(word, 0) + 1\n",
        "    return word_count\n",
        "\n",
        "def most_frequent_words(word_count, n=5):\n",
        "    sorted_word_count = sorted(word_count.items(), key=lambda x: x[1], reverse=True)\n",
        "    return sorted_word_count[:n]\n",
        "\n",
        "file_path = 'sample_text.txt'\n",
        "\n",
        "word_count = count_words(file_path)\n",
        "\n",
        "most_frequent = most_frequent_words(word_count)\n",
        "print(\"Most frequent words:\")\n",
        "for word, count in most_frequent:\n",
        "    print(word, \"-\", count)\n"
      ],
      "metadata": {
        "colab": {
          "base_uri": "https://localhost:8080/",
          "height": 332
        },
        "id": "Og_2p42nD330",
        "outputId": "12e4114e-2b0b-421f-e568-abbb84656287"
      },
      "execution_count": 10,
      "outputs": [
        {
          "output_type": "error",
          "ename": "FileNotFoundError",
          "evalue": "[Errno 2] No such file or directory: 'sample_text.txt'",
          "traceback": [
            "\u001b[0;31m---------------------------------------------------------------------------\u001b[0m",
            "\u001b[0;31mFileNotFoundError\u001b[0m                         Traceback (most recent call last)",
            "\u001b[0;32m<ipython-input-10-f6215231b531>\u001b[0m in \u001b[0;36m<cell line: 16>\u001b[0;34m()\u001b[0m\n\u001b[1;32m     14\u001b[0m \u001b[0mfile_path\u001b[0m \u001b[0;34m=\u001b[0m \u001b[0;34m'sample_text.txt'\u001b[0m\u001b[0;34m\u001b[0m\u001b[0;34m\u001b[0m\u001b[0m\n\u001b[1;32m     15\u001b[0m \u001b[0;34m\u001b[0m\u001b[0m\n\u001b[0;32m---> 16\u001b[0;31m \u001b[0mword_count\u001b[0m \u001b[0;34m=\u001b[0m \u001b[0mcount_words\u001b[0m\u001b[0;34m(\u001b[0m\u001b[0mfile_path\u001b[0m\u001b[0;34m)\u001b[0m\u001b[0;34m\u001b[0m\u001b[0;34m\u001b[0m\u001b[0m\n\u001b[0m\u001b[1;32m     17\u001b[0m \u001b[0;34m\u001b[0m\u001b[0m\n\u001b[1;32m     18\u001b[0m \u001b[0mmost_frequent\u001b[0m \u001b[0;34m=\u001b[0m \u001b[0mmost_frequent_words\u001b[0m\u001b[0;34m(\u001b[0m\u001b[0mword_count\u001b[0m\u001b[0;34m)\u001b[0m\u001b[0;34m\u001b[0m\u001b[0;34m\u001b[0m\u001b[0m\n",
            "\u001b[0;32m<ipython-input-10-f6215231b531>\u001b[0m in \u001b[0;36mcount_words\u001b[0;34m(file_path)\u001b[0m\n\u001b[1;32m      1\u001b[0m \u001b[0;32mdef\u001b[0m \u001b[0mcount_words\u001b[0m\u001b[0;34m(\u001b[0m\u001b[0mfile_path\u001b[0m\u001b[0;34m)\u001b[0m\u001b[0;34m:\u001b[0m\u001b[0;34m\u001b[0m\u001b[0;34m\u001b[0m\u001b[0m\n\u001b[1;32m      2\u001b[0m     \u001b[0mword_count\u001b[0m \u001b[0;34m=\u001b[0m \u001b[0;34m{\u001b[0m\u001b[0;34m}\u001b[0m\u001b[0;34m\u001b[0m\u001b[0;34m\u001b[0m\u001b[0m\n\u001b[0;32m----> 3\u001b[0;31m     \u001b[0;32mwith\u001b[0m \u001b[0mopen\u001b[0m\u001b[0;34m(\u001b[0m\u001b[0mfile_path\u001b[0m\u001b[0;34m,\u001b[0m \u001b[0;34m'r'\u001b[0m\u001b[0;34m)\u001b[0m \u001b[0;32mas\u001b[0m \u001b[0mfile\u001b[0m\u001b[0;34m:\u001b[0m\u001b[0;34m\u001b[0m\u001b[0;34m\u001b[0m\u001b[0m\n\u001b[0m\u001b[1;32m      4\u001b[0m         \u001b[0;32mfor\u001b[0m \u001b[0mline\u001b[0m \u001b[0;32min\u001b[0m \u001b[0mfile\u001b[0m\u001b[0;34m:\u001b[0m\u001b[0;34m\u001b[0m\u001b[0;34m\u001b[0m\u001b[0m\n\u001b[1;32m      5\u001b[0m             \u001b[0mwords\u001b[0m \u001b[0;34m=\u001b[0m \u001b[0mline\u001b[0m\u001b[0;34m.\u001b[0m\u001b[0msplit\u001b[0m\u001b[0;34m(\u001b[0m\u001b[0;34m)\u001b[0m\u001b[0;34m\u001b[0m\u001b[0;34m\u001b[0m\u001b[0m\n",
            "\u001b[0;31mFileNotFoundError\u001b[0m: [Errno 2] No such file or directory: 'sample_text.txt'"
          ]
        }
      ]
    },
    {
      "cell_type": "code",
      "source": [
        "#experiment 9\n",
        "class MyClass:\n",
        "\n",
        "    def print_message(self):\n",
        "\n",
        "        print(\"Hello, My registraton number is 21BCE10226\")\n",
        "\n",
        "my_object = MyClass()\n",
        "\n",
        "my_object.print_message()\n"
      ],
      "metadata": {
        "colab": {
          "base_uri": "https://localhost:8080/"
        },
        "id": "To1BCtzTEMXM",
        "outputId": "f999c7c4-1901-4dfb-b649-b757f513e25a"
      },
      "execution_count": 11,
      "outputs": [
        {
          "output_type": "stream",
          "name": "stdout",
          "text": [
            "Hello, My registraton number is 21BCE10226\n"
          ]
        }
      ]
    },
    {
      "cell_type": "code",
      "source": [
        "#experiment 10\n",
        "def print_string(input_string):\n",
        "\n",
        "    print(input_string)\n",
        "\n",
        "input_message = \"Hello, this is the end of my lab file.\"\n",
        "print_string(input_message)\n"
      ],
      "metadata": {
        "colab": {
          "base_uri": "https://localhost:8080/"
        },
        "id": "T1upn4qaEk1h",
        "outputId": "6994bfcc-26e5-4a15-d44c-e1326feff251"
      },
      "execution_count": 12,
      "outputs": [
        {
          "output_type": "stream",
          "name": "stdout",
          "text": [
            "Hello, this is the end of my lab file.\n"
          ]
        }
      ]
    }
  ]
}